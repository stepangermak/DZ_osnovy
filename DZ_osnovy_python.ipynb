{
 "cells": [
  {
   "cell_type": "markdown",
   "metadata": {},
   "source": [
    "Задание №1"
   ]
  },
  {
   "cell_type": "code",
   "execution_count": null,
   "metadata": {},
   "outputs": [],
   "source": [
    "phrase_1 = 'Мое первое задание на курсе Python'\n",
    "phrase_2 = 'Работаю удаленно, уже 7 месяцев'\n",
    "if len(phrase_1) > len(phrase_2):\n",
    "    print(\"Фраза 1 длинее фразы 2\")\n",
    "elif len(phrase_1) < len(phrase_2):\n",
    "    print(\"Фраза 2 длинее фразы 1\")\n",
    "else:\n",
    "    print(\"Фразы одинаковой длины\")"
   ]
  },
  {
   "cell_type": "markdown",
   "metadata": {},
   "source": [
    "Задание №2"
   ]
  },
  {
   "cell_type": "code",
   "execution_count": 18,
   "metadata": {},
   "outputs": [
    {
     "name": "stdout",
     "output_type": "stream",
     "text": [
      "Обычный год\n"
     ]
    }
   ],
   "source": [
    "year = 2007\n",
    "if year % 4 == 0 and (year % 100 != 0) or (year % 400 == 0):\n",
    "    print(\"Високосный год\")\n",
    "else:\n",
    "    print(\"Обычный год\")"
   ]
  },
  {
   "cell_type": "markdown",
   "metadata": {},
   "source": [
    "Задание №3"
   ]
  },
  {
   "cell_type": "code",
   "execution_count": 19,
   "metadata": {},
   "outputs": [
    {
     "name": "stdout",
     "output_type": "stream",
     "text": [
      "Введите день: 3\n",
      "Введите месяц: Сентябрь\n",
      "Ваш знак зодиака: Дева\n"
     ]
    }
   ],
   "source": [
    "day = int(input('Введите день: '))\n",
    "month = input ('Введите месяц: ')\n",
    "if(day >= 21 and date <= 31 and month == 'Март') or (day >= 1 and day <= 20 and month == 'Апрель'):\n",
    "    print(\"Ваш знак зодиака: Овен\")\n",
    "elif(day >= 21 and date <= 31 and month == 'Апрель') or (day >= 1 and day <= 20 and month == 'Май'):\n",
    "    print(\"Ваш знак зодиака: Телец\")\n",
    "elif(day >= 21 and date <= 31 and month == 'Май') or (day >= 1 and day <= 21 and month == 'Июнь'):\n",
    "    print(\"Ваш знак зодиака: Близнецы\")\n",
    "elif(day >= 22 and date <= 31 and month == 'Июнь') or (day >= 1 and day <= 22 and month == 'Июль'):\n",
    "    print(\"Ваш знак зодиака: Рак\")\n",
    "elif(day >= 23 and date <= 31 and month == 'Июль') or (day >= 1 and day <= 23 and month == 'Август'):\n",
    "    print(\"Ваш знак зодиака: Лев\")\n",
    "elif(day >= 24 and date <= 31 and month == 'Август') or (day >= 1 and day <= 23 and month == 'Сентябрь'):\n",
    "    print(\"Ваш знак зодиака: Дева\")\n",
    "elif(day >= 24 and date <= 31 and month == 'Сентябрб') or (day >= 1 and day <= 23 and month == 'Октябрь'):\n",
    "    print(\"Ваш знак зодиака: Весы\")\n",
    "elif(day >= 24 and date <= 31 and month == 'Октябрь') or (day >= 1 and day <= 22 and month == 'Ноябрь'):\n",
    "    print(\"Ваш знак зодиака: Скорпион\")\n",
    "elif(day >= 23 and date <= 31 and month == 'Ноябрь') or (day >= 1 and day <= 21 and month == 'Декабрь'):\n",
    "    print(\"Ваш знак зодиака: Стрелец\")\n",
    "elif(day >= 22 and date <= 31 and month == 'Декабрь') or (day >= 1 and day <= 20 and month == 'Январь'):\n",
    "    print(\"Ваш знак зодиака: Козерог\")\n",
    "elif(day >= 21 and date <= 31 and month == 'Январь') or (day >= 1 and day <= 20 and month == 'Февраль'):\n",
    "    print(\"Ваш знак зодиака: Водолей\")\n",
    "elif(day >= 21 and date <= 31 and month == 'Февраль') or (day >= 1 and day <= 20 and month == 'Март'):\n",
    "    print(\"Ваш знак зодиака: Рыбы\")\n",
    "else:\n",
    "    print(\"ошибочные данные\")"
   ]
  },
  {
   "cell_type": "markdown",
   "metadata": {},
   "source": [
    "Задание №4"
   ]
  },
  {
   "cell_type": "code",
   "execution_count": 17,
   "metadata": {},
   "outputs": [
    {
     "name": "stdout",
     "output_type": "stream",
     "text": [
      "Введите ширину: 45\n",
      "Введите длину: 205\n",
      "Введите высоту: 45\n",
      "Упаковка для лыж\n"
     ]
    }
   ],
   "source": [
    "width = int(input('Введите ширину: '))\n",
    "length = int(input('Введите длину: '))\n",
    "height = int(input('Введите высоту: '))\n",
    "if width <= 15 and length <= 15 and height <= 15:\n",
    "    print(\"Коробка №1\")\n",
    "elif width > 50 or 200 > length > 50 or height > 50:\n",
    "    print(\"Коробка №2\")\n",
    "elif length >= 200:\n",
    "    print(\"Упаковка для лыж\")\n",
    "else:\n",
    "    print(\"Стандартная коробка №3\")"
   ]
  }
 ],
 "metadata": {
  "kernelspec": {
   "display_name": "Python 3",
   "language": "python",
   "name": "python3"
  },
  "language_info": {
   "codemirror_mode": {
    "name": "ipython",
    "version": 3
   },
   "file_extension": ".py",
   "mimetype": "text/x-python",
   "name": "python",
   "nbconvert_exporter": "python",
   "pygments_lexer": "ipython3",
   "version": "3.8.3"
  }
 },
 "nbformat": 4,
 "nbformat_minor": 4
}
